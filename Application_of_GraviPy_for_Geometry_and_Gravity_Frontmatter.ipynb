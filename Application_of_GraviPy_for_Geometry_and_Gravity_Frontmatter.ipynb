{
 "cells": [
  {
   "cell_type": "markdown",
   "metadata": {},
   "source": [
    "# Application of GraviPy for Geometry and Gravity"
   ]
  },
  {
   "cell_type": "markdown",
   "metadata": {},
   "source": [
    "This work provides three notebooks, which show some useful applications for the [GraviPy](https://pypi.org/project/GraviPy/) module from Wojciech Czaja. The following notebooks can be used to teach or learn something about differential geometry or the theory of general relativity and the way of visiualizing and simulating some of its aspects:\n",
    "1. [Metrics and its Visiualizations]() \n",
    "2. [Geodesic Lines and Christoffel Symbols](http://github.com/FriederKirchmayer/General-Relativity-and-Differential-Geometry/blob/e17ed1f286b23c4302364486306d1f40df779d52/Geodesics.ipynb) \n",
    "3. [Perihelion Precession](https://github.com/FriederKirchmayer/General-Relativity-and-Differential-Geometry/blob/3c9ebf36edf9bd2b6ddf79484444b4db705c7e2e/Perihelion_Precession.ipynb)\n",
    "\n",
    "The first notebook gives some general information about the mathematics of metrics from surfaces and shows how to visualize them with the [K3D](https://github.com/K3D-tools/K3D-jupyter) module. The second notebook calculates some geodesics on the surfaces with GraviPy and visualizes them later. The last notebook shows how to apply these methods to the simulation of the perihelion percussion."
   ]
  }
 ],
 "metadata": {
  "kernelspec": {
   "display_name": "Python 3",
   "language": "python",
   "name": "python3"
  },
  "language_info": {
   "codemirror_mode": {
    "name": "ipython",
    "version": 3
   },
   "file_extension": ".py",
   "mimetype": "text/x-python",
   "name": "python",
   "nbconvert_exporter": "python",
   "pygments_lexer": "ipython3",
   "version": "3.7.3"
  }
 },
 "nbformat": 4,
 "nbformat_minor": 2
}
